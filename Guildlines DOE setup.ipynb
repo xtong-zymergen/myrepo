{
 "cells": [
  {
   "cell_type": "markdown",
   "metadata": {},
   "source": [
    "## Guildlines to Strain DOE Setup"
   ]
  },
  {
   "cell_type": "markdown",
   "metadata": {},
   "source": [
    "### Background\n",
    "\n",
    "### Ladder strains\n",
    "\n",
    "### Fermentation equivalency\n",
    "\n",
    "Quote from email:\n",
    "\n",
    "    For client, the Q-Team is building a strain ladder that will be used to establish fermentation equivalency across sites. The ladder will be tested at our client's site 1-2 strains at a time and up to 5 strains total. It is our understanding that a minimal strain ladder could be 4-6 strains with a product titer difference > 1.5X the variation in the assay (i.e. if the test has a 10% variation, you would want strains to be at least 15% different from one another i.e. 100mg/L, 120mg/L, 140mg/L). "
   ]
  },
  {
   "cell_type": "markdown",
   "metadata": {},
   "source": [
    "### Questions\n",
    "\n",
    "* Response variable: \n",
    "\n",
    "> titer, anything else?\n",
    "\n",
    "> What is the distribution of titer? Range? Variation?\n",
    "\n",
    "* Sample size: number of strains, number of replicates\n",
    "\n",
    "> Are strain replicates run at Zymergen and the client technical replicates, which are all grown from the same colony? \n",
    "\n",
    "> Replicates: How many? In theory, we recommend running as many replicates as the physical constraints allow based on the strain numbers chosen. \n",
    "\n",
    "Assume we have normal distributions for product titer, then strain 1 follows $\\bar{X_1} \\sim N(\\mu_1, \\sigma^2) $, and strain 2 follows $\\bar{X_2} \\sim N(\\mu_2, \\sigma^2)$ \n",
    "\n",
    "Our hypothesis is $\\bar{\\mu_1} = \\bar{\\mu_2}$, with the same variance $\\sigma^2$.\n",
    "\n",
    "Power is the probability of rejecting the null hypothesis in favor of the alternative, given the null hypothesis is false. $$ \\text{Power} = \\text{ Prob ( Reject } H_0 | H_0 \\text{ is false}) $$ With a high power, we \n",
    "\n",
    "The formula for determining sample size to ensure that the test has a specified power is given below, $$ n = (\\frac{Z_{1-\\alpha/2} + Z_{1-\\beta}}{\\text{Effect size}})^2 $$ \n",
    "\n",
    "Effect size is ratio of difference and variation, $ \\text{Effect size} = \\frac{|\\mu_1 - \\mu_2|}{\\sigma} $.\n",
    "\n",
    "To ensure the strains we select are well separately, we expect the power to be 80% or 90%. \n",
    "\n",
    "\n",
    "\n"
   ]
  },
  {
   "cell_type": "code",
   "execution_count": 2,
   "metadata": {},
   "outputs": [
    {
     "name": "stdout",
     "output_type": "stream",
     "text": [
      "[1] 3.488391\n"
     ]
    }
   ],
   "source": [
    "alpha <- 0.05\n",
    "power <- 0.80\n",
    "sd <- 10\n",
    "delta <- 1.5*sd\n",
    "ES <- delta/sd\n",
    "n <- ((qnorm(1-alpha/2)+qnorm(power))/ES)^2\n",
    "print(n)\n"
   ]
  },
  {
   "cell_type": "code",
   "execution_count": 10,
   "metadata": {},
   "outputs": [
    {
     "data": {
      "text/html": [
       "<table>\n",
       "<thead><tr><th scope=col>Power</th><th scope=col>Effect.Size</th><th scope=col>Sample.Size</th></tr></thead>\n",
       "<tbody>\n",
       "\t<tr><td>0.8  </td><td>0.5  </td><td>31.40</td></tr>\n",
       "\t<tr><td>0.8  </td><td>0.6  </td><td>21.80</td></tr>\n",
       "\t<tr><td>0.8  </td><td>0.7  </td><td>16.02</td></tr>\n",
       "\t<tr><td>0.8  </td><td>0.8  </td><td>12.26</td></tr>\n",
       "\t<tr><td>0.8  </td><td>0.9  </td><td> 9.69</td></tr>\n",
       "\t<tr><td>0.8  </td><td>1.0  </td><td> 7.85</td></tr>\n",
       "\t<tr><td>0.8  </td><td>1.1  </td><td> 6.49</td></tr>\n",
       "\t<tr><td>0.8  </td><td>1.2  </td><td> 5.45</td></tr>\n",
       "\t<tr><td>0.8  </td><td>1.3  </td><td> 4.64</td></tr>\n",
       "\t<tr><td>0.8  </td><td>1.4  </td><td> 4.00</td></tr>\n",
       "\t<tr><td>0.8  </td><td>1.5  </td><td> 3.49</td></tr>\n",
       "\t<tr><td>0.8  </td><td>1.6  </td><td> 3.07</td></tr>\n",
       "\t<tr><td>0.8  </td><td>1.7  </td><td> 2.72</td></tr>\n",
       "\t<tr><td>0.8  </td><td>1.8  </td><td> 2.42</td></tr>\n",
       "\t<tr><td>0.8  </td><td>1.9  </td><td> 2.17</td></tr>\n",
       "\t<tr><td>0.8  </td><td>2.0  </td><td> 1.96</td></tr>\n",
       "</tbody>\n",
       "</table>\n"
      ],
      "text/latex": [
       "\\begin{tabular}{r|lll}\n",
       " Power & Effect.Size & Sample.Size\\\\\n",
       "\\hline\n",
       "\t 0.8   & 0.5   & 31.40\\\\\n",
       "\t 0.8   & 0.6   & 21.80\\\\\n",
       "\t 0.8   & 0.7   & 16.02\\\\\n",
       "\t 0.8   & 0.8   & 12.26\\\\\n",
       "\t 0.8   & 0.9   &  9.69\\\\\n",
       "\t 0.8   & 1.0   &  7.85\\\\\n",
       "\t 0.8   & 1.1   &  6.49\\\\\n",
       "\t 0.8   & 1.2   &  5.45\\\\\n",
       "\t 0.8   & 1.3   &  4.64\\\\\n",
       "\t 0.8   & 1.4   &  4.00\\\\\n",
       "\t 0.8   & 1.5   &  3.49\\\\\n",
       "\t 0.8   & 1.6   &  3.07\\\\\n",
       "\t 0.8   & 1.7   &  2.72\\\\\n",
       "\t 0.8   & 1.8   &  2.42\\\\\n",
       "\t 0.8   & 1.9   &  2.17\\\\\n",
       "\t 0.8   & 2.0   &  1.96\\\\\n",
       "\\end{tabular}\n"
      ],
      "text/markdown": [
       "\n",
       "Power | Effect.Size | Sample.Size | \n",
       "|---|---|---|---|---|---|---|---|---|---|---|---|---|---|---|---|\n",
       "| 0.8   | 0.5   | 31.40 | \n",
       "| 0.8   | 0.6   | 21.80 | \n",
       "| 0.8   | 0.7   | 16.02 | \n",
       "| 0.8   | 0.8   | 12.26 | \n",
       "| 0.8   | 0.9   |  9.69 | \n",
       "| 0.8   | 1.0   |  7.85 | \n",
       "| 0.8   | 1.1   |  6.49 | \n",
       "| 0.8   | 1.2   |  5.45 | \n",
       "| 0.8   | 1.3   |  4.64 | \n",
       "| 0.8   | 1.4   |  4.00 | \n",
       "| 0.8   | 1.5   |  3.49 | \n",
       "| 0.8   | 1.6   |  3.07 | \n",
       "| 0.8   | 1.7   |  2.72 | \n",
       "| 0.8   | 1.8   |  2.42 | \n",
       "| 0.8   | 1.9   |  2.17 | \n",
       "| 0.8   | 2.0   |  1.96 | \n",
       "\n",
       "\n"
      ],
      "text/plain": [
       "   Power Effect.Size Sample.Size\n",
       "1  0.8   0.5         31.40      \n",
       "2  0.8   0.6         21.80      \n",
       "3  0.8   0.7         16.02      \n",
       "4  0.8   0.8         12.26      \n",
       "5  0.8   0.9          9.69      \n",
       "6  0.8   1.0          7.85      \n",
       "7  0.8   1.1          6.49      \n",
       "8  0.8   1.2          5.45      \n",
       "9  0.8   1.3          4.64      \n",
       "10 0.8   1.4          4.00      \n",
       "11 0.8   1.5          3.49      \n",
       "12 0.8   1.6          3.07      \n",
       "13 0.8   1.7          2.72      \n",
       "14 0.8   1.8          2.42      \n",
       "15 0.8   1.9          2.17      \n",
       "16 0.8   2.0          1.96      "
      ]
     },
     "metadata": {},
     "output_type": "display_data"
    }
   ],
   "source": [
    "# change the multiplier\n",
    "alpha <- 0.05\n",
    "power <- 0.80\n",
    "ES <- seq(0.5, 2, by = 0.1)\n",
    "Sample.Size <- numeric(length(ES))\n",
    "for (i in 1:length(ES)){\n",
    "    Sample.Size[i] <- ((qnorm(1-alpha/2)+qnorm(power))/ES[i])^2\n",
    "}\n",
    "\n",
    "data.frame(Power = power, Effect.Size = ES, Sample.Size = round(Sample.Size, 2), stringsAsFactors=FALSE)\n"
   ]
  },
  {
   "cell_type": "code",
   "execution_count": 12,
   "metadata": {},
   "outputs": [
    {
     "data": {
      "text/html": [
       "<table>\n",
       "<thead><tr><th scope=col>Power</th><th scope=col>Effect.Size</th><th scope=col>Sample.Size</th></tr></thead>\n",
       "<tbody>\n",
       "\t<tr><td>0.8     </td><td>1.981020</td><td>2       </td></tr>\n",
       "\t<tr><td>0.8     </td><td>1.617496</td><td>3       </td></tr>\n",
       "\t<tr><td>0.8     </td><td>1.400793</td><td>4       </td></tr>\n",
       "\t<tr><td>0.8     </td><td>1.252907</td><td>5       </td></tr>\n",
       "\t<tr><td>0.8     </td><td>1.143742</td><td>6       </td></tr>\n",
       "\t<tr><td>0.8     </td><td>1.058900</td><td>7       </td></tr>\n",
       "\t<tr><td>0.8     </td><td>0.990510</td><td>8       </td></tr>\n",
       "</tbody>\n",
       "</table>\n"
      ],
      "text/latex": [
       "\\begin{tabular}{r|lll}\n",
       " Power & Effect.Size & Sample.Size\\\\\n",
       "\\hline\n",
       "\t 0.8      & 1.981020 & 2       \\\\\n",
       "\t 0.8      & 1.617496 & 3       \\\\\n",
       "\t 0.8      & 1.400793 & 4       \\\\\n",
       "\t 0.8      & 1.252907 & 5       \\\\\n",
       "\t 0.8      & 1.143742 & 6       \\\\\n",
       "\t 0.8      & 1.058900 & 7       \\\\\n",
       "\t 0.8      & 0.990510 & 8       \\\\\n",
       "\\end{tabular}\n"
      ],
      "text/markdown": [
       "\n",
       "Power | Effect.Size | Sample.Size | \n",
       "|---|---|---|---|---|---|---|\n",
       "| 0.8      | 1.981020 | 2        | \n",
       "| 0.8      | 1.617496 | 3        | \n",
       "| 0.8      | 1.400793 | 4        | \n",
       "| 0.8      | 1.252907 | 5        | \n",
       "| 0.8      | 1.143742 | 6        | \n",
       "| 0.8      | 1.058900 | 7        | \n",
       "| 0.8      | 0.990510 | 8        | \n",
       "\n",
       "\n"
      ],
      "text/plain": [
       "  Power Effect.Size Sample.Size\n",
       "1 0.8   1.981020    2          \n",
       "2 0.8   1.617496    3          \n",
       "3 0.8   1.400793    4          \n",
       "4 0.8   1.252907    5          \n",
       "5 0.8   1.143742    6          \n",
       "6 0.8   1.058900    7          \n",
       "7 0.8   0.990510    8          "
      ]
     },
     "metadata": {},
     "output_type": "display_data"
    }
   ],
   "source": [
    "# change the sample size\n",
    "alpha <- 0.05\n",
    "power <- 0.80\n",
    "ES <- seq(0.5, 2, by = 0.1)\n",
    "Sample.Size <- c(2, 3, 4, 5, 6, 7, 8)\n",
    "ES <- numeric(length(Sample.Size))\n",
    "for (i in 1:length(ES)){\n",
    "     ES[i] <- (qnorm(1-alpha/2)+qnorm(power)) / sqrt(Sample.Size[i])\n",
    "}\n",
    "\n",
    "data.frame(Power = power, Effect.Size = ES, Sample.Size = Sample.Size, stringsAsFactors=FALSE)\n"
   ]
  },
  {
   "cell_type": "code",
   "execution_count": null,
   "metadata": {},
   "outputs": [],
   "source": []
  }
 ],
 "metadata": {
  "kernelspec": {
   "display_name": "R",
   "language": "R",
   "name": "ir"
  },
  "language_info": {
   "codemirror_mode": "r",
   "file_extension": ".r",
   "mimetype": "text/x-r-source",
   "name": "R",
   "pygments_lexer": "r",
   "version": "3.4.1"
  }
 },
 "nbformat": 4,
 "nbformat_minor": 2
}
